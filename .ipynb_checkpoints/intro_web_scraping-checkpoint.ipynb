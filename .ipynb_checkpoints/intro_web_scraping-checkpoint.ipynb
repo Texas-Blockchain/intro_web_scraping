{
 "cells": [
  {
   "cell_type": "markdown",
   "metadata": {},
   "source": [
    "# Intro to Web Scraping\n",
    "## Extract data from any website\n",
    "## No 'Export CSV' button required!\n"
   ]
  },
  {
   "cell_type": "markdown",
   "metadata": {},
   "source": [
    "\n",
    "<br>\n",
    "\n",
    "## Import packages\n",
    "* *requests* - Query webpages\n",
    "* *BeautifulSoup* - Parse HTML\n",
    "* *tweepy* - Interact with Twitter API"
   ]
  },
  {
   "cell_type": "code",
   "execution_count": 1,
   "metadata": {},
   "outputs": [],
   "source": [
    "import requests\n",
    "from bs4 import BeautifulSoup\n",
    "import tweepy\n",
    "\n",
    "import pandas as pd\n",
    "from datetime import datetime\n",
    "import json\n",
    "import pprint"
   ]
  },
  {
   "cell_type": "markdown",
   "metadata": {},
   "source": [
    "## 1) Twitter\n",
    "### Permissioned API\n",
    "* Must apply for access keys"
   ]
  },
  {
   "cell_type": "code",
   "execution_count": null,
   "metadata": {},
   "outputs": [],
   "source": [
    "# Authenticate API keys from Twitter Developer account\n",
    "auth = tweepy.OAuthHandler('2R1jql1adPTC4TkE7IWKUzg2e', 'et7OmWo8RYGApwMlusNfLUZMwidtWFzaSIKDDhlY8gNJenSs4x')\n",
    "auth.set_access_token('788186581-XNt8YNIUlY6Y162V2EMmt9N8pTOTzgUfUne1dHF2',\n",
    "                          '0NQFeGQoXueoADiJEzDxsuDm4gFMEhh4bLK5NuhqCZ5oF')\n",
    "\n",
    "# Set api object\n",
    "api = tweepy.API(auth)\n",
    "\n",
    "# Get latest @txblockchain tweets\n",
    "tweets = api.user_timeline(screen_name='txblockchain', count=3)\n",
    "print(tweets[0])\n",
    "\n",
    "# Get ID of latest tweet\n",
    "tweet_id = tweets[0].id_str\n",
    "\n",
    "# Get retweets of lastest tweet\n",
    "retweets = api.retweets(tweet_id)\n",
    "\n",
    "# Get retweeters from retweets\n",
    "retweeters = [i.author.screen_name for i in retweets]\n",
    "\n",
    "# Print retweeters\n",
    "print(retweeters)\n"
   ]
  },
  {
   "cell_type": "code",
   "execution_count": null,
   "metadata": {},
   "outputs": [],
   "source": [
    "# Get @txblockchain follower data\n",
    "follower_data = tweepy.Cursor(api.followers, screen_name='txblockchain')\n",
    "\n",
    "# Build list of followers\n",
    "followers = []\n",
    "\n",
    "for f in follower_data.items():\n",
    "    followers.append(f.screen_name)\n",
    "    \n",
    "# Print followers data\n",
    "print(len(followers))\n",
    "print(followers)"
   ]
  },
  {
   "cell_type": "markdown",
   "metadata": {},
   "source": [
    "## 2) Blockchain.info\n",
    "\n",
    "### Permissionless API\n",
    "* Free to use public API"
   ]
  },
  {
   "cell_type": "code",
   "execution_count": null,
   "metadata": {
    "scrolled": true
   },
   "outputs": [],
   "source": [
    "# Set API url\n",
    "# Bitcoin block data #170 from blockchain.info explorer\n",
    "url = 'https://blockchain.info/block-height/170?format=json'\n",
    "\n",
    "# Request data\n",
    "response = requests.get(url)\n",
    "print(response)\n",
    "\n",
    "# Get data as a Python dictionary\n",
    "block_data = json.loads(response.content)\n",
    "block_data = block_data['blocks'][0]\n",
    "\n",
    "# Get number of transactions from block data\n",
    "num_transactions = len(block_data['tx'])\n",
    "\n",
    "# Get coinbase transaction\n",
    "coinbase_tx = block_data['tx'][0]\n",
    "\n",
    "# Get Hal Finney transaction\n",
    "hal_finney_tx = block_data['tx'][1]\n",
    "\n",
    "print(num_transactions)\n",
    "\n",
    "print('--- COINBASE TX ---')\n",
    "pprint.pprint(coinbase_tx)\n",
    "print('\\n\\n')\n",
    "\n",
    "print('--- HAL FINNEY TX ---')\n",
    "pprint.pprint(hal_finney_tx)"
   ]
  },
  {
   "cell_type": "markdown",
   "metadata": {},
   "source": [
    "## 3) CoinMarketCap\n",
    "\n",
    "### No API\n",
    "\n",
    "* Parse through the webpage's HTML"
   ]
  },
  {
   "cell_type": "code",
   "execution_count": null,
   "metadata": {},
   "outputs": [],
   "source": [
    "# Set webpage url\n",
    "url = 'https://coinmarketcap.com/currencies/bitcoin/historical-data/'\n",
    "\n",
    "# Request webpage\n",
    "response = requests.get(url)\n",
    "\n",
    "# Get content of webpage\n",
    "page = response.content\n",
    "\n",
    "# Put HTML content in parser\n",
    "btc_soup = BeautifulSoup(page, 'lxml')\n",
    "\n",
    "# Get headers from webpage table\n",
    "headers = btc_soup.find('thead').find('tr').find_all('th')\n",
    "headers = [i.text for i in headers]\n",
    "\n",
    "# Create dataframe with headers as column names\n",
    "df = pd.DataFrame(columns=headers)\n",
    "\n",
    "# Get list of rows from webpage table\n",
    "rows = btc_soup.find('tbody').find_all('tr')\n",
    "\n",
    "# Iterate through rows in list\n",
    "for i, row in enumerate(rows):\n",
    "    \n",
    "    # Get all data in row\n",
    "    data = row.find_all('td')\n",
    "    \n",
    "    # Create list to hold row data\n",
    "    df_row = []\n",
    "    \n",
    "    # Iterate through data and parse text\n",
    "    for x in data:\n",
    "        df_row.append(x.text)\n",
    "    \n",
    "    # Append row to dataframe\n",
    "    df.at[i] = df_row\n",
    "\n",
    "# Print dataframe\n",
    "print(df)\n",
    "\n",
    "# Export dataframe to csv file\n",
    "df.to_csv('bitcoin_data.csv', sep='')\n",
    "        "
   ]
  },
  {
   "cell_type": "code",
   "execution_count": null,
   "metadata": {},
   "outputs": [],
   "source": []
  }
 ],
 "metadata": {
  "kernelspec": {
   "display_name": "Python 3",
   "language": "python",
   "name": "python3"
  },
  "language_info": {
   "codemirror_mode": {
    "name": "ipython",
    "version": 3
   },
   "file_extension": ".py",
   "mimetype": "text/x-python",
   "name": "python",
   "nbconvert_exporter": "python",
   "pygments_lexer": "ipython3",
   "version": "3.7.3"
  }
 },
 "nbformat": 4,
 "nbformat_minor": 2
}
